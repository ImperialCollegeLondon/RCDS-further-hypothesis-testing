{
 "cells": [
  {
   "cell_type": "markdown",
   "id": "a1a5f6b3",
   "metadata": {},
   "source": [
    "# In-class exercises"
   ]
  },
  {
   "cell_type": "markdown",
   "id": "3ac3a8a4",
   "metadata": {},
   "source": [
    "### 1. t-test\n",
    "\n",
    "Consider the data in `birthweight.csv`.\n",
    "\n",
    "|Variable|Description|Data type|\n",
    "|---|---|---|\n",
    "|ID|Baby number| (meta) |\n",
    "|length|Length of baby (cm)|Scale|\n",
    "|Birthweight|Weight of baby (kg)|Scale|\n",
    "| headcirumference|Head Circumference|Scale|\n",
    "| Gestation|Gestation (weeks)|Scale|\n",
    "| smoker|Mother smokes 1 = smoker 0 = non-smoker| Binary|\n",
    "| motherage|Maternal age|Scale|\n",
    "| mnocig|Number of cigarettes smoked per day by mother|Scale|\n",
    "| mheight|Mothers height (cm)| Scale|\n",
    "| mppwt|Mothers pre-pregnancy weight (kg)| Scale|\n",
    "| fage|Father's age| Scale|\n",
    "|fedyrs|Father’s years in education|Scale|\n",
    "| fnocig|Number of cigarettes smoked per day by father|Scale|\n",
    "| fheight|Father's height (kg)| Scale|\n",
    "| lowbwt|Low birth weight, 0 = No and 1 = yes| Binary|\n",
    "|mage35|Mother over 35, 0 = No and 1 = yes|Binary|\n"
   ]
  },
  {
   "cell_type": "markdown",
   "id": "587ce7b7",
   "metadata": {},
   "source": [
    "Does a mother's smoking have any influence on their baby's birthweight?"
   ]
  },
  {
   "cell_type": "code",
   "execution_count": 3,
   "id": "17f2d70d",
   "metadata": {},
   "outputs": [],
   "source": [
    "import numpy as np\n",
    "import pandas as pd\n",
    "from scipy import stats\n",
    "import matplotlib.pyplot as plt"
   ]
  },
  {
   "cell_type": "code",
   "execution_count": 3,
   "id": "5b48d1c4",
   "metadata": {},
   "outputs": [],
   "source": [
    "data = pd.read_csv(\"birthweight.csv\")"
   ]
  },
  {
   "cell_type": "markdown",
   "id": "9353fa85",
   "metadata": {},
   "source": [
    "We want a two-tailed test (no prior expectations about change).\n",
    "\n",
    "Set $\\alpha$ = 0.05"
   ]
  },
  {
   "cell_type": "code",
   "execution_count": 7,
   "id": "6a3a874e",
   "metadata": {},
   "outputs": [
    {
     "name": "stdout",
     "output_type": "stream",
     "text": [
      "smoker: 3.1340909090909093\n",
      "nonsmoker: 3.5095000000000005\n",
      "difference: -0.37540909090909125\n"
     ]
    }
   ],
   "source": [
    "bw_smoker = data[ data.smoker==1 ].Birthweight\n",
    "bw_nonsmoker = data[ data.smoker==0 ].Birthweight\n",
    "\n",
    "mean_smoker = bw_smoker.mean()\n",
    "mean_nonsmoker = bw_nonsmoker.mean()\n",
    "\n",
    "print('smoker:', mean_smoker)\n",
    "print('nonsmoker:', mean_nonsmoker)\n",
    "print('difference:', mean_smoker - mean_nonsmoker)"
   ]
  },
  {
   "cell_type": "code",
   "execution_count": 8,
   "id": "fcf658cd",
   "metadata": {},
   "outputs": [
    {
     "data": {
      "text/plain": [
       "Ttest_indResult(statistic=-2.093431541991207, pvalue=0.04269624654559367)"
      ]
     },
     "execution_count": 8,
     "metadata": {},
     "output_type": "execute_result"
    }
   ],
   "source": [
    "stats.ttest_ind( bw_smoker, bw_nonsmoker )"
   ]
  },
  {
   "cell_type": "markdown",
   "id": "f6ba84e9",
   "metadata": {},
   "source": [
    "### 2. ANOVA"
   ]
  },
  {
   "cell_type": "markdown",
   "id": "e84503cb",
   "metadata": {},
   "source": [
    "\n",
    "Consider the data in `diet.csv`.\n",
    "\n",
    "|Variable|Description|Data type|\n",
    "|---|---|---|\n",
    "|Person|Participant number||\n",
    "|Age|Age (years)|Scale|\n",
    "|Height|Height (cm)|Scale|\n",
    "|preweight|Weight before the diet (kg)|Scale|\n",
    "|Diet|Diet|Nominal|\n",
    "|weight6weeks|Weight after 6 weeks (kg)|Scale|\n",
    "\n",
    "Does weight change depend on the diet followed?"
   ]
  },
  {
   "cell_type": "markdown",
   "id": "9e248ed3",
   "metadata": {},
   "source": [
    "H0: mean weight changes for all diets are equal\n",
    "\n",
    "H1: mean weight changes are not all equal\n",
    "\n",
    "$\\alpha$ = 0.05"
   ]
  },
  {
   "cell_type": "code",
   "execution_count": 14,
   "id": "6f004917",
   "metadata": {},
   "outputs": [],
   "source": [
    "data = pd.read_csv(\"diet.csv\")\n",
    "\n",
    "diet1 = data[ data.Diet==1 ]\n",
    "diet2 = data[ data.Diet==2 ]\n",
    "diet3 = data[ data.Diet==3 ]\n",
    "\n",
    "change1 = diet1.weight6weeks - diet1.preweight\n",
    "change2 = diet2.weight6weeks - diet2.preweight\n",
    "change3 = diet3.weight6weeks - diet3.preweight"
   ]
  },
  {
   "cell_type": "code",
   "execution_count": 22,
   "id": "df665341",
   "metadata": {},
   "outputs": [
    {
     "data": {
      "text/plain": [
       "F_onewayResult(statistic=6.197447453165349, pvalue=0.0032290142385893524)"
      ]
     },
     "execution_count": 22,
     "metadata": {},
     "output_type": "execute_result"
    }
   ],
   "source": [
    "stats.f_oneway(change1, change2, change3 )"
   ]
  },
  {
   "cell_type": "markdown",
   "id": "2414c07a",
   "metadata": {},
   "source": [
    "### 3. Chi-squared test"
   ]
  },
  {
   "cell_type": "markdown",
   "id": "dfcbda0e",
   "metadata": {},
   "source": [
    "Consider the data in `crime.csv`.\n",
    "\n",
    "|Variable|Description|Data type|\n",
    "|---|---|---|\n",
    "|CrimeRate|Crime rate (number of offences per million population)|Continuous|\n",
    "|Youth|Young males (number of males aged 18-24 per 1000)|Discrete|\n",
    "|Southern|Southern state 1 = yes, 0 = no|Binary|\n",
    "|Education|Education time (average number of years schooling up to 25)|Discrete|\n",
    "|ExpenditureYear0|Expenditure (per capita expenditure on police)  skewed|Continuous|\n",
    "|LabourForce|Youth labour force (males employed 18-24 per 1000)|Discrete|\n",
    "|Males|Males (per 1000 females)|Discrete|\n",
    "|MoreMales|More males identified per 1000 females 1 = yes, 0 = no|Binary|\n",
    "|StateSize|State size (in hundred thousands)|Discrete|\n",
    "|YouthUnemployment|Youth Unemployment (number of males aged 18-24 per 1000) skewed|Discrete|\n",
    "|MatureUnemployment|Mature Unemployment (number of males aged 35-39 per 1000)|Discrete|\n",
    "|HighYouthUnemploy|High Youth Unemployment 1 = yes, 0 = no (high if Youth >3*Mature )|Binary|\n",
    "|Wage|Wage (median weekly wage)|Continuous|\n",
    "|BelowWage|Below Wage (number of families below half wage per 1000)|Discrete|\n"
   ]
  },
  {
   "cell_type": "markdown",
   "id": "4413014b",
   "metadata": {},
   "source": [
    "Is there a relationship between Southern states and high youth unemployment?"
   ]
  },
  {
   "cell_type": "markdown",
   "id": "9d36dffe",
   "metadata": {},
   "source": [
    "H0: High youth unemployment is independent of Southern\n",
    "\n",
    "H1: High youth unemployment is not independent of Southern\n",
    "\n",
    "$\\alpha$ = 0.05"
   ]
  },
  {
   "cell_type": "code",
   "execution_count": 30,
   "id": "a905731f",
   "metadata": {},
   "outputs": [
    {
     "data": {
      "text/html": [
       "<div>\n",
       "<style scoped>\n",
       "    .dataframe tbody tr th:only-of-type {\n",
       "        vertical-align: middle;\n",
       "    }\n",
       "\n",
       "    .dataframe tbody tr th {\n",
       "        vertical-align: top;\n",
       "    }\n",
       "\n",
       "    .dataframe thead th {\n",
       "        text-align: right;\n",
       "    }\n",
       "</style>\n",
       "<table border=\"1\" class=\"dataframe\">\n",
       "  <thead>\n",
       "    <tr style=\"text-align: right;\">\n",
       "      <th>HighYouthUnemploy</th>\n",
       "      <th>0</th>\n",
       "      <th>1</th>\n",
       "    </tr>\n",
       "    <tr>\n",
       "      <th>Southern</th>\n",
       "      <th></th>\n",
       "      <th></th>\n",
       "    </tr>\n",
       "  </thead>\n",
       "  <tbody>\n",
       "    <tr>\n",
       "      <th>0</th>\n",
       "      <td>17</td>\n",
       "      <td>14</td>\n",
       "    </tr>\n",
       "    <tr>\n",
       "      <th>1</th>\n",
       "      <td>15</td>\n",
       "      <td>1</td>\n",
       "    </tr>\n",
       "  </tbody>\n",
       "</table>\n",
       "</div>"
      ],
      "text/plain": [
       "HighYouthUnemploy   0   1\n",
       "Southern                 \n",
       "0                  17  14\n",
       "1                  15   1"
      ]
     },
     "execution_count": 30,
     "metadata": {},
     "output_type": "execute_result"
    }
   ],
   "source": [
    "data = pd.read_csv(\"crime.csv\")\n",
    "\n",
    "obs = pd.crosstab( data.Southern, data.HighYouthUnemploy )\n",
    "obs"
   ]
  },
  {
   "cell_type": "code",
   "execution_count": 31,
   "id": "ccd8fd63",
   "metadata": {},
   "outputs": [
    {
     "data": {
      "text/plain": [
       "array([[21.10638298,  9.89361702],\n",
       "       [10.89361702,  5.10638298]])"
      ]
     },
     "execution_count": 31,
     "metadata": {},
     "output_type": "execute_result"
    }
   ],
   "source": [
    "stats.contingency.expected_freq(obs)"
   ]
  },
  {
   "cell_type": "code",
   "execution_count": 32,
   "id": "b2c526ff",
   "metadata": {},
   "outputs": [
    {
     "data": {
      "text/plain": [
       "0.017240599419156625"
      ]
     },
     "execution_count": 32,
     "metadata": {},
     "output_type": "execute_result"
    }
   ],
   "source": [
    "p_value = stats.chi2_contingency(obs)[1]\n",
    "p_value"
   ]
  },
  {
   "cell_type": "markdown",
   "id": "bff4c5a8",
   "metadata": {},
   "source": [
    "In the case of a 2x2 table, we can avoid having to meet the chi-squared test requirements by applying [Fisher's exact test](https://en.wikipedia.org/wiki/Fisher%27s_exact_test).\n"
   ]
  },
  {
   "cell_type": "code",
   "execution_count": 33,
   "id": "51d356c6",
   "metadata": {},
   "outputs": [
    {
     "data": {
      "text/plain": [
       "0.00804930920522039"
      ]
     },
     "execution_count": 33,
     "metadata": {},
     "output_type": "execute_result"
    }
   ],
   "source": [
    "p_value = stats.fisher_exact(obs)[1]\n",
    "p_value"
   ]
  }
 ],
 "metadata": {
  "kernelspec": {
   "display_name": "Python 3",
   "language": "python",
   "name": "python3"
  },
  "language_info": {
   "codemirror_mode": {
    "name": "ipython",
    "version": 3
   },
   "file_extension": ".py",
   "mimetype": "text/x-python",
   "name": "python",
   "nbconvert_exporter": "python",
   "pygments_lexer": "ipython3",
   "version": "3.8.2"
  }
 },
 "nbformat": 4,
 "nbformat_minor": 5
}
