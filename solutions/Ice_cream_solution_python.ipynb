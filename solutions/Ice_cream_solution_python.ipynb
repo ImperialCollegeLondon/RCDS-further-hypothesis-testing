{
 "cells": [
  {
   "cell_type": "markdown",
   "metadata": {},
   "source": [
    "# Further Hypothesis Testing\n",
    "\n",
    "## Assignment: ice cream\n",
    "\n",
    "This assignment contains exercises to test your understanding of various hypothesis tests from the course. It is a good idea to revise the course material thoroughly before starting.\n",
    "\n",
    "Use whatever computational resources you like to answer the questions (e.g. python, R, any other programming language, a spreadsheet, a calculator, ...)."
   ]
  },
  {
   "cell_type": "markdown",
   "metadata": {},
   "source": [
    "### The data\n",
    "\n",
    "The file `Ice_cream.csv` contains data collected on 165 high school students. These are:\n",
    "\n",
    "* Subject ID\n",
    "* Wears glasses (0=No, 1=Yes)\n",
    "* Favourite ice cream flavour (1=Vanilla, 2=Chocolate, 3=Strawberry)\n",
    "* Score on a video game\n",
    "* Score on a puzzle\n"
   ]
  },
  {
   "cell_type": "code",
   "execution_count": 1,
   "metadata": {},
   "outputs": [],
   "source": [
    "# Library imports:\n",
    "\n",
    "import numpy as np\n",
    "import pandas as pd\n",
    "from scipy import stats\n",
    "import matplotlib.pyplot as plt\n"
   ]
  },
  {
   "cell_type": "code",
   "execution_count": 2,
   "metadata": {},
   "outputs": [
    {
     "data": {
      "text/html": [
       "<div>\n",
       "<style scoped>\n",
       "    .dataframe tbody tr th:only-of-type {\n",
       "        vertical-align: middle;\n",
       "    }\n",
       "\n",
       "    .dataframe tbody tr th {\n",
       "        vertical-align: top;\n",
       "    }\n",
       "\n",
       "    .dataframe thead th {\n",
       "        text-align: right;\n",
       "    }\n",
       "</style>\n",
       "<table border=\"1\" class=\"dataframe\">\n",
       "  <thead>\n",
       "    <tr style=\"text-align: right;\">\n",
       "      <th></th>\n",
       "      <th>id</th>\n",
       "      <th>glasses</th>\n",
       "      <th>ice_cream</th>\n",
       "      <th>video</th>\n",
       "      <th>puzzle</th>\n",
       "    </tr>\n",
       "  </thead>\n",
       "  <tbody>\n",
       "    <tr>\n",
       "      <th>0</th>\n",
       "      <td>70</td>\n",
       "      <td>1</td>\n",
       "      <td>2</td>\n",
       "      <td>47</td>\n",
       "      <td>57</td>\n",
       "    </tr>\n",
       "    <tr>\n",
       "      <th>1</th>\n",
       "      <td>86</td>\n",
       "      <td>1</td>\n",
       "      <td>3</td>\n",
       "      <td>58</td>\n",
       "      <td>31</td>\n",
       "    </tr>\n",
       "    <tr>\n",
       "      <th>2</th>\n",
       "      <td>141</td>\n",
       "      <td>1</td>\n",
       "      <td>3</td>\n",
       "      <td>53</td>\n",
       "      <td>56</td>\n",
       "    </tr>\n",
       "    <tr>\n",
       "      <th>3</th>\n",
       "      <td>172</td>\n",
       "      <td>1</td>\n",
       "      <td>1</td>\n",
       "      <td>53</td>\n",
       "      <td>61</td>\n",
       "    </tr>\n",
       "    <tr>\n",
       "      <th>4</th>\n",
       "      <td>113</td>\n",
       "      <td>1</td>\n",
       "      <td>1</td>\n",
       "      <td>63</td>\n",
       "      <td>61</td>\n",
       "    </tr>\n",
       "    <tr>\n",
       "      <th>...</th>\n",
       "      <td>...</td>\n",
       "      <td>...</td>\n",
       "      <td>...</td>\n",
       "      <td>...</td>\n",
       "      <td>...</td>\n",
       "    </tr>\n",
       "    <tr>\n",
       "      <th>160</th>\n",
       "      <td>31</td>\n",
       "      <td>0</td>\n",
       "      <td>1</td>\n",
       "      <td>42</td>\n",
       "      <td>56</td>\n",
       "    </tr>\n",
       "    <tr>\n",
       "      <th>161</th>\n",
       "      <td>145</td>\n",
       "      <td>0</td>\n",
       "      <td>1</td>\n",
       "      <td>36</td>\n",
       "      <td>46</td>\n",
       "    </tr>\n",
       "    <tr>\n",
       "      <th>162</th>\n",
       "      <td>187</td>\n",
       "      <td>0</td>\n",
       "      <td>1</td>\n",
       "      <td>55</td>\n",
       "      <td>52</td>\n",
       "    </tr>\n",
       "    <tr>\n",
       "      <th>163</th>\n",
       "      <td>118</td>\n",
       "      <td>0</td>\n",
       "      <td>1</td>\n",
       "      <td>58</td>\n",
       "      <td>61</td>\n",
       "    </tr>\n",
       "    <tr>\n",
       "      <th>164</th>\n",
       "      <td>137</td>\n",
       "      <td>0</td>\n",
       "      <td>3</td>\n",
       "      <td>53</td>\n",
       "      <td>61</td>\n",
       "    </tr>\n",
       "  </tbody>\n",
       "</table>\n",
       "<p>165 rows × 5 columns</p>\n",
       "</div>"
      ],
      "text/plain": [
       "      id  glasses  ice_cream  video  puzzle\n",
       "0     70        1          2     47      57\n",
       "1     86        1          3     58      31\n",
       "2    141        1          3     53      56\n",
       "3    172        1          1     53      61\n",
       "4    113        1          1     63      61\n",
       "..   ...      ...        ...    ...     ...\n",
       "160   31        0          1     42      56\n",
       "161  145        0          1     36      46\n",
       "162  187        0          1     55      52\n",
       "163  118        0          1     58      61\n",
       "164  137        0          3     53      61\n",
       "\n",
       "[165 rows x 5 columns]"
      ]
     },
     "execution_count": 2,
     "metadata": {},
     "output_type": "execute_result"
    }
   ],
   "source": [
    "# Loading the data:\n",
    "\n",
    "data = pd.read_csv('../Ice_cream.csv')\n",
    "data\n"
   ]
  },
  {
   "cell_type": "markdown",
   "metadata": {},
   "source": [
    "### The tasks"
   ]
  },
  {
   "cell_type": "code",
   "execution_count": 3,
   "metadata": {},
   "outputs": [],
   "source": [
    "# We will use a significance level alpha=0.05 throughout.\n"
   ]
  },
  {
   "cell_type": "markdown",
   "metadata": {},
   "source": [
    "Answer the following questions:"
   ]
  },
  {
   "cell_type": "markdown",
   "metadata": {},
   "source": [
    "1. Are the video game and puzzle scores normally distributed?"
   ]
  },
  {
   "cell_type": "code",
   "execution_count": 4,
   "metadata": {},
   "outputs": [],
   "source": [
    "# We can use a Shapiro-Wilk test on each set of scores:\n",
    "\n",
    "# H0: The scores are normally distributed.\n",
    "# H1: The scores are not normally distributed."
   ]
  },
  {
   "cell_type": "code",
   "execution_count": 5,
   "metadata": {},
   "outputs": [
    {
     "data": {
      "text/plain": [
       "0.07658827304840088"
      ]
     },
     "execution_count": 5,
     "metadata": {},
     "output_type": "execute_result"
    },
    {
     "data": {
      "image/png": "[encoded data removed]",
      "text/plain": [
       "<Figure size 432x288 with 1 Axes>"
      ]
     },
     "metadata": {
      "needs_background": "light"
     },
     "output_type": "display_data"
    }
   ],
   "source": [
    "# For the video game:\n",
    "\n",
    "data.video.hist(color='red')\n",
    "p_value = stats.shapiro(data.video)[1]\n",
    "p_value"
   ]
  },
  {
   "cell_type": "code",
   "execution_count": 6,
   "metadata": {},
   "outputs": [
    {
     "data": {
      "text/plain": [
       "0.000320218998240307"
      ]
     },
     "execution_count": 6,
     "metadata": {},
     "output_type": "execute_result"
    },
    {
     "data": {
      "image/png": "[encoded data removed]",
      "text/plain": [
       "<Figure size 432x288 with 1 Axes>"
      ]
     },
     "metadata": {
      "needs_background": "light"
     },
     "output_type": "display_data"
    }
   ],
   "source": [
    "# For the puzzle:\n",
    "\n",
    "data.puzzle.hist(color='blue', bins=10)\n",
    "p_value = stats.shapiro(data.puzzle)[1]\n",
    "p_value"
   ]
  },
  {
   "cell_type": "code",
   "execution_count": 7,
   "metadata": {},
   "outputs": [],
   "source": [
    "# The video game scores are not significantly divergent from normal (p > alpha),\n",
    "# but the puzzle scores are (p < alpha).\n",
    "\n",
    "# (A Bonferroni correction for multiple testing does not change these conclusions.)"
   ]
  },
  {
   "cell_type": "markdown",
   "metadata": {},
   "source": [
    "2. Is the video game as hard as the puzzle?"
   ]
  },
  {
   "cell_type": "code",
   "execution_count": 8,
   "metadata": {},
   "outputs": [
    {
     "data": {
      "text/plain": [
       "0.20001110509253145"
      ]
     },
     "execution_count": 8,
     "metadata": {},
     "output_type": "execute_result"
    }
   ],
   "source": [
    "# Because the same students generate both scores, the samples are not independent.\n",
    "\n",
    "# Although the puzzle scores are not normally distributed, we *do* have a big \n",
    "# enough sample size (n > 75) to use a paired sample t-test to investigate the \n",
    "# mean of the score differences (puzzle - video).\n",
    "\n",
    "# We will consider this to be two-tailed test:\n",
    "\n",
    "# H0: mean(puzzle - video) = 0\n",
    "# H1: mean(puzzle - video) != 0\n",
    "\n",
    "p_2tailed = stats.ttest_rel(data.puzzle, data.video).pvalue\n",
    "p_2tailed\n"
   ]
  },
  {
   "cell_type": "code",
   "execution_count": 9,
   "metadata": {},
   "outputs": [],
   "source": [
    "# Here, p > alpha so we accept the null hypothesis that the video game is \n",
    "# of the same difficulty as the puzzle."
   ]
  },
  {
   "cell_type": "markdown",
   "metadata": {},
   "source": [
    "3. Is wearing glasses associated with a lower score on the puzzle game?"
   ]
  },
  {
   "cell_type": "code",
   "execution_count": 10,
   "metadata": {},
   "outputs": [
    {
     "data": {
      "image/png": "[encoded data removed]",
      "text/plain": [
       "<Figure size 432x288 with 1 Axes>"
      ]
     },
     "metadata": {
      "needs_background": "light"
     },
     "output_type": "display_data"
    },
    {
     "name": "stdout",
     "output_type": "stream",
     "text": [
      "no glasses: n = 108 , mean(puzzle) = 52.842592592592595\n",
      "glasses: n = 57 , mean(puzzle) = 52.56140350877193\n"
     ]
    }
   ],
   "source": [
    "# Let's plot the scores for the two groups:\n",
    "\n",
    "puzzle_glasses = data.puzzle[data.glasses==1]\n",
    "puzzle_no_glasses = data.puzzle[data.glasses==0]\n",
    "\n",
    "xlab = 'puzzle'\n",
    "ylab = 'freq'\n",
    "\n",
    "bins = np.linspace(data.puzzle.min(), data.puzzle.max()+1, 10)\n",
    "ax = plt.axes()\n",
    "ax.set_xlabel(xlab)\n",
    "ax.set_ylabel(ylab)\n",
    "\n",
    "#plt.hist(data.puzzle, bins, alpha=0.5)\n",
    "plt.hist(puzzle_no_glasses, bins, alpha=0.5, label='no glasses', color='C0' )\n",
    "plt.hist(puzzle_glasses, bins, alpha=0.5, label='glasses', color='C1' )\n",
    "\n",
    "ax.legend(loc='upper left')\n",
    "plt.show()\n",
    "\n",
    "print('no glasses: n =', len(puzzle_no_glasses), \n",
    "      ', mean(puzzle) =', puzzle_no_glasses.mean())\n",
    "print('glasses: n =', len(puzzle_glasses),\n",
    "     ', mean(puzzle) =', puzzle_glasses.mean())"
   ]
  },
  {
   "cell_type": "code",
   "execution_count": 11,
   "metadata": {},
   "outputs": [
    {
     "data": {
      "text/plain": [
       "0.4409296300462722"
      ]
     },
     "execution_count": 11,
     "metadata": {},
     "output_type": "execute_result"
    }
   ],
   "source": [
    "# The \"glasses\" group is just below the sample size that would allow a reliable\n",
    "# p-value to be obtained from a t-test using non-normal data (n>75).\n",
    "\n",
    "# Instead, we will use a non-parametric alternative. The two samples are\n",
    "# independent, so we can use a Mann-Whitney U-test to compare their distributions.\n",
    "\n",
    "# Note that the question as posed is a one-tailed hypothesis test:\n",
    "\n",
    "# H0: a random sample from puzzle_glasses is on average the same as \n",
    "#     a random sample from puzzle_no_glasses.\n",
    "# H1: a random sample from puzzle_glasses is on average less than \n",
    "#     a random sample from puzzle_no_glasses\n",
    "\n",
    "p_1tailed = stats.mannwhitneyu(puzzle_glasses, \n",
    "                               puzzle_no_glasses, \n",
    "                               alternative='less').pvalue\n",
    "\n",
    "p_1tailed"
   ]
  },
  {
   "cell_type": "code",
   "execution_count": 12,
   "metadata": {},
   "outputs": [],
   "source": [
    "# The result is p > alpha, so we conclude that glasses wearers do not score\n",
    "# significantly lower on the puzzle than non-wearers."
   ]
  },
  {
   "cell_type": "markdown",
   "metadata": {},
   "source": [
    "4. Do glasses wearers have different ice cream preferences to non-wearers?"
   ]
  },
  {
   "cell_type": "code",
   "execution_count": 13,
   "metadata": {},
   "outputs": [
    {
     "data": {
      "text/html": [
       "<div>\n",
       "<style scoped>\n",
       "    .dataframe tbody tr th:only-of-type {\n",
       "        vertical-align: middle;\n",
       "    }\n",
       "\n",
       "    .dataframe tbody tr th {\n",
       "        vertical-align: top;\n",
       "    }\n",
       "\n",
       "    .dataframe thead th {\n",
       "        text-align: right;\n",
       "    }\n",
       "</style>\n",
       "<table border=\"1\" class=\"dataframe\">\n",
       "  <thead>\n",
       "    <tr style=\"text-align: right;\">\n",
       "      <th>ice_cream</th>\n",
       "      <th>1</th>\n",
       "      <th>2</th>\n",
       "      <th>3</th>\n",
       "    </tr>\n",
       "    <tr>\n",
       "      <th>glasses</th>\n",
       "      <th></th>\n",
       "      <th></th>\n",
       "      <th></th>\n",
       "    </tr>\n",
       "  </thead>\n",
       "  <tbody>\n",
       "    <tr>\n",
       "      <th>0</th>\n",
       "      <td>47</td>\n",
       "      <td>32</td>\n",
       "      <td>29</td>\n",
       "    </tr>\n",
       "    <tr>\n",
       "      <th>1</th>\n",
       "      <td>31</td>\n",
       "      <td>8</td>\n",
       "      <td>18</td>\n",
       "    </tr>\n",
       "  </tbody>\n",
       "</table>\n",
       "</div>"
      ],
      "text/plain": [
       "ice_cream   1   2   3\n",
       "glasses              \n",
       "0          47  32  29\n",
       "1          31   8  18"
      ]
     },
     "execution_count": 13,
     "metadata": {},
     "output_type": "execute_result"
    }
   ],
   "source": [
    "# To test whether two categorical variables are independent, we use a \n",
    "# chi-squared test:\n",
    "\n",
    "# H0: glasses and ice_cream are independent.\n",
    "# H1: glasses and ice_cream are not independent.\n",
    "\n",
    "# The contingency table:\n",
    "\n",
    "obs = pd.crosstab(data.glasses, data.ice_cream)\n",
    "obs"
   ]
  },
  {
   "cell_type": "code",
   "execution_count": 14,
   "metadata": {},
   "outputs": [
    {
     "data": {
      "text/plain": [
       "array([[51.05454545, 26.18181818, 30.76363636],\n",
       "       [26.94545455, 13.81818182, 16.23636364]])"
      ]
     },
     "execution_count": 14,
     "metadata": {},
     "output_type": "execute_result"
    }
   ],
   "source": [
    "# The expected frequencies:\n",
    "\n",
    "stats.contingency.expected_freq(obs)"
   ]
  },
  {
   "cell_type": "code",
   "execution_count": 15,
   "metadata": {},
   "outputs": [
    {
     "data": {
      "text/plain": [
       "0.0834314371780616"
      ]
     },
     "execution_count": 15,
     "metadata": {},
     "output_type": "execute_result"
    }
   ],
   "source": [
    "# All expected frequencies are above 5, so we are OK to proceed with the test:\n",
    "\n",
    "stats.chi2_contingency(obs)[1]"
   ]
  },
  {
   "cell_type": "code",
   "execution_count": 16,
   "metadata": {},
   "outputs": [],
   "source": [
    "# p > alpha, so we accept the null hypothesis that the variables are independent."
   ]
  },
  {
   "cell_type": "markdown",
   "metadata": {},
   "source": [
    "5. Is the video game score independent of favourite ice cream?"
   ]
  },
  {
   "cell_type": "code",
   "execution_count": 17,
   "metadata": {},
   "outputs": [
    {
     "data": {
      "image/png": "[encoded data removed]",
      "text/plain": [
       "<Figure size 432x288 with 1 Axes>"
      ]
     },
     "metadata": {
      "needs_background": "light"
     },
     "output_type": "display_data"
    },
    {
     "name": "stdout",
     "output_type": "stream",
     "text": [
      "1: Vanilla: n = 78 , mean(video) = 51.794871794871796\n",
      "2: Chocolate: n = 40 , mean(video) = 46.65\n",
      "3: Strawberry: n = 47 , mean(video) = 55.851063829787236\n"
     ]
    }
   ],
   "source": [
    "# Again, let's plot the scores for the relevant groups:\n",
    "\n",
    "video_1 = data.video[data.ice_cream==1]\n",
    "video_2 = data.video[data.ice_cream==2]\n",
    "video_3 = data.video[data.ice_cream==3]\n",
    "\n",
    "xlab = 'video'\n",
    "ylab = 'freq'\n",
    "\n",
    "bins = np.linspace(data.video.min(), data.video.max()+1, 15)\n",
    "ax = plt.axes()\n",
    "ax.set_xlabel(xlab)\n",
    "ax.set_ylabel(ylab)\n",
    "\n",
    "plt.hist(video_1, bins, alpha=0.5, label='1: Vanilla', color='yellow' )\n",
    "plt.hist(video_2, bins, alpha=0.5, label='2: Chocolate', color='brown' )\n",
    "plt.hist(video_3, bins, alpha=0.5, label='3: Strawberry', color='pink' )\n",
    "\n",
    "ax.legend(loc='upper left')\n",
    "plt.show()\n",
    "\n",
    "print('1: Vanilla: n =', len(video_1), \n",
    "      ', mean(video) =', video_1.mean())\n",
    "print('2: Chocolate: n =', len(video_2), \n",
    "      ', mean(video) =', video_2.mean())\n",
    "print('3: Strawberry: n =', len(video_3), \n",
    "      ', mean(video) =', video_3.mean())\n"
   ]
  },
  {
   "cell_type": "code",
   "execution_count": 18,
   "metadata": {},
   "outputs": [
    {
     "data": {
      "text/plain": [
       "2.9627727657836244e-05"
      ]
     },
     "execution_count": 18,
     "metadata": {},
     "output_type": "execute_result"
    }
   ],
   "source": [
    "# This question asks us to test whether the mean video game scores for the three\n",
    "# ice cream groups are the same. This requires a one-way ANOVA test:\n",
    "\n",
    "# H0: The means of the three groups are the same.\n",
    "# H1: The means of the three groups are not the same.\n",
    "\n",
    "p_value = stats.f_oneway(video_1, video_2, video_3).pvalue\n",
    "p_value"
   ]
  },
  {
   "cell_type": "code",
   "execution_count": 19,
   "metadata": {},
   "outputs": [],
   "source": [
    "# The result is p < alpha, so we reject the null hypothesis and conclude\n",
    "# that there is a significant association between favourite ice cream and \n",
    "# video game score."
   ]
  },
  {
   "cell_type": "markdown",
   "metadata": {},
   "source": [
    "---"
   ]
  }
 ],
 "metadata": {
  "kernelspec": {
   "display_name": "Python 3",
   "language": "python",
   "name": "python3"
  },
  "language_info": {
   "codemirror_mode": {
    "name": "ipython",
    "version": 3
   },
   "file_extension": ".py",
   "mimetype": "text/x-python",
   "name": "python",
   "nbconvert_exporter": "python",
   "pygments_lexer": "ipython3",
   "version": "3.7.6"
  }
 },
 "nbformat": 4,
 "nbformat_minor": 4
}
