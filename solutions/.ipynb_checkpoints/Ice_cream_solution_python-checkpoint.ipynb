{
 "cells": [
  {
   "cell_type": "markdown",
   "metadata": {},
   "source": [
    "# Further Hypothesis Testing\n",
    "\n",
    "## Assignment: ice cream\n",
    "\n",
    "This assignment contains exercises to test your understanding of various hypothesis tests from the course. It is a good idea to revise the course material thoroughly before starting.\n",
    "\n",
    "Use whatever computational resources you like to answer the questions (e.g. python, R, any other programming language, a spreadsheet, a calculator, ...)."
   ]
  },
  {
   "cell_type": "markdown",
   "metadata": {},
   "source": [
    "### The data\n",
    "\n",
    "The file `Ice_cream.csv` contains data collected on 200 high school students. These are:\n",
    "\n",
    "* Subject ID\n",
    "* Wears glasses (0=No, 1=Yes)\n",
    "* Favourite ice cream flavour (1=Vanilla, 2=Chocolate, 3=Strawberry)\n",
    "* Score on a video game\n",
    "* Score on a puzzle\n"
   ]
  },
  {
   "cell_type": "code",
   "execution_count": 2,
   "metadata": {},
   "outputs": [],
   "source": [
    "# Library imports:\n",
    "\n",
    "import numpy as np\n",
    "import pandas as pd\n",
    "from scipy import stats\n",
    "import matplotlib.pyplot as plt\n"
   ]
  },
  {
   "cell_type": "code",
   "execution_count": 3,
   "metadata": {},
   "outputs": [
    {
     "data": {
      "text/html": [
       "<div>\n",
       "<style scoped>\n",
       "    .dataframe tbody tr th:only-of-type {\n",
       "        vertical-align: middle;\n",
       "    }\n",
       "\n",
       "    .dataframe tbody tr th {\n",
       "        vertical-align: top;\n",
       "    }\n",
       "\n",
       "    .dataframe thead th {\n",
       "        text-align: right;\n",
       "    }\n",
       "</style>\n",
       "<table border=\"1\" class=\"dataframe\">\n",
       "  <thead>\n",
       "    <tr style=\"text-align: right;\">\n",
       "      <th></th>\n",
       "      <th>id</th>\n",
       "      <th>glasses</th>\n",
       "      <th>ice_cream</th>\n",
       "      <th>video</th>\n",
       "      <th>puzzle</th>\n",
       "    </tr>\n",
       "  </thead>\n",
       "  <tbody>\n",
       "    <tr>\n",
       "      <th>0</th>\n",
       "      <td>70</td>\n",
       "      <td>0</td>\n",
       "      <td>2</td>\n",
       "      <td>47</td>\n",
       "      <td>57</td>\n",
       "    </tr>\n",
       "    <tr>\n",
       "      <th>1</th>\n",
       "      <td>121</td>\n",
       "      <td>1</td>\n",
       "      <td>1</td>\n",
       "      <td>63</td>\n",
       "      <td>61</td>\n",
       "    </tr>\n",
       "    <tr>\n",
       "      <th>2</th>\n",
       "      <td>86</td>\n",
       "      <td>0</td>\n",
       "      <td>3</td>\n",
       "      <td>58</td>\n",
       "      <td>31</td>\n",
       "    </tr>\n",
       "    <tr>\n",
       "      <th>3</th>\n",
       "      <td>141</td>\n",
       "      <td>0</td>\n",
       "      <td>3</td>\n",
       "      <td>53</td>\n",
       "      <td>56</td>\n",
       "    </tr>\n",
       "    <tr>\n",
       "      <th>4</th>\n",
       "      <td>172</td>\n",
       "      <td>0</td>\n",
       "      <td>1</td>\n",
       "      <td>53</td>\n",
       "      <td>61</td>\n",
       "    </tr>\n",
       "    <tr>\n",
       "      <th>...</th>\n",
       "      <td>...</td>\n",
       "      <td>...</td>\n",
       "      <td>...</td>\n",
       "      <td>...</td>\n",
       "      <td>...</td>\n",
       "    </tr>\n",
       "    <tr>\n",
       "      <th>195</th>\n",
       "      <td>31</td>\n",
       "      <td>1</td>\n",
       "      <td>1</td>\n",
       "      <td>42</td>\n",
       "      <td>56</td>\n",
       "    </tr>\n",
       "    <tr>\n",
       "      <th>196</th>\n",
       "      <td>145</td>\n",
       "      <td>1</td>\n",
       "      <td>1</td>\n",
       "      <td>36</td>\n",
       "      <td>46</td>\n",
       "    </tr>\n",
       "    <tr>\n",
       "      <th>197</th>\n",
       "      <td>187</td>\n",
       "      <td>1</td>\n",
       "      <td>1</td>\n",
       "      <td>55</td>\n",
       "      <td>52</td>\n",
       "    </tr>\n",
       "    <tr>\n",
       "      <th>198</th>\n",
       "      <td>118</td>\n",
       "      <td>1</td>\n",
       "      <td>1</td>\n",
       "      <td>58</td>\n",
       "      <td>61</td>\n",
       "    </tr>\n",
       "    <tr>\n",
       "      <th>199</th>\n",
       "      <td>137</td>\n",
       "      <td>1</td>\n",
       "      <td>3</td>\n",
       "      <td>53</td>\n",
       "      <td>61</td>\n",
       "    </tr>\n",
       "  </tbody>\n",
       "</table>\n",
       "<p>200 rows × 5 columns</p>\n",
       "</div>"
      ],
      "text/plain": [
       "      id  glasses  ice_cream  video  puzzle\n",
       "0     70        0          2     47      57\n",
       "1    121        1          1     63      61\n",
       "2     86        0          3     58      31\n",
       "3    141        0          3     53      56\n",
       "4    172        0          1     53      61\n",
       "..   ...      ...        ...    ...     ...\n",
       "195   31        1          1     42      56\n",
       "196  145        1          1     36      46\n",
       "197  187        1          1     55      52\n",
       "198  118        1          1     58      61\n",
       "199  137        1          3     53      61\n",
       "\n",
       "[200 rows x 5 columns]"
      ]
     },
     "execution_count": 3,
     "metadata": {},
     "output_type": "execute_result"
    }
   ],
   "source": [
    "# Loading the data:\n",
    "\n",
    "data = pd.read_csv('Ice_cream.csv')\n",
    "data\n"
   ]
  },
  {
   "cell_type": "markdown",
   "metadata": {},
   "source": [
    "### The tasks"
   ]
  },
  {
   "cell_type": "code",
   "execution_count": 4,
   "metadata": {},
   "outputs": [],
   "source": [
    "# We will use a significance level alpha=0.05 throughout.\n"
   ]
  },
  {
   "cell_type": "markdown",
   "metadata": {},
   "source": [
    "Answer the following questions:"
   ]
  },
  {
   "cell_type": "markdown",
   "metadata": {},
   "source": [
    "1. Are the video game and puzzle scores normally distributed?"
   ]
  },
  {
   "cell_type": "code",
   "execution_count": 5,
   "metadata": {},
   "outputs": [],
   "source": [
    "# We can use a Shapiro-Wilk test on each set of scores:\n",
    "\n",
    "# H0: The scores are normally distributed.\n",
    "# H1: The scores are not normally distributed."
   ]
  },
  {
   "cell_type": "code",
   "execution_count": 6,
   "metadata": {},
   "outputs": [
    {
     "data": {
      "text/plain": [
       "0.03476548567414284"
      ]
     },
     "execution_count": 6,
     "metadata": {},
     "output_type": "execute_result"
    },
    {
     "data": {
      "image/png": "[encoded data removed]",
      "text/plain": [
       "<Figure size 432x288 with 1 Axes>"
      ]
     },
     "metadata": {
      "needs_background": "light"
     },
     "output_type": "display_data"
    }
   ],
   "source": [
    "# For the video game:\n",
    "\n",
    "data.video.hist(color='red')\n",
    "p_value = stats.shapiro(data.video)[1]\n",
    "p_value"
   ]
  },
  {
   "cell_type": "code",
   "execution_count": 7,
   "metadata": {},
   "outputs": [
    {
     "data": {
      "text/plain": [
       "2.343731830478646e-05"
      ]
     },
     "execution_count": 7,
     "metadata": {},
     "output_type": "execute_result"
    },
    {
     "data": {
      "image/png": "[encoded data removed]",
      "text/plain": [
       "<Figure size 432x288 with 1 Axes>"
      ]
     },
     "metadata": {
      "needs_background": "light"
     },
     "output_type": "display_data"
    }
   ],
   "source": [
    "# For the puzzle:\n",
    "\n",
    "data.puzzle.hist(color='blue', bins=10)\n",
    "p_value = stats.shapiro(data.puzzle)[1]\n",
    "p_value"
   ]
  },
  {
   "cell_type": "code",
   "execution_count": 8,
   "metadata": {},
   "outputs": [],
   "source": [
    "# The raw p-values for both the video game and the puzzle scores are \n",
    "# below the significance level, alpha.\n",
    "\n",
    "# However, a Bonferroni correction for multiple testing would require\n",
    "# p < alpha/2 , hence we should only report that the puzzle scores\n",
    "# appear significantly non-normal."
   ]
  },
  {
   "cell_type": "markdown",
   "metadata": {},
   "source": [
    "2. Is the video game as hard as the puzzle?"
   ]
  },
  {
   "cell_type": "code",
   "execution_count": 9,
   "metadata": {},
   "outputs": [
    {
     "data": {
      "text/plain": [
       "0.4639341426202652"
      ]
     },
     "execution_count": 9,
     "metadata": {},
     "output_type": "execute_result"
    }
   ],
   "source": [
    "# Because the same students generate both scores, the samples are not independent.\n",
    "\n",
    "# Although the puzzle scores are not normally distributed, we *do* have a big \n",
    "# enough sample size (n > 75) to use a paired sample t-test to investigate the \n",
    "# mean of the score differences (puzzle - video).\n",
    "\n",
    "# We will consider this to be two-tailed test:\n",
    "\n",
    "# H0: mean(puzzle - video) = 0\n",
    "# H1: mean(puzzle - video) != 0\n",
    "\n",
    "p_2tailed = stats.ttest_rel(data.puzzle, data.video).pvalue\n",
    "p_2tailed\n"
   ]
  },
  {
   "cell_type": "code",
   "execution_count": 10,
   "metadata": {},
   "outputs": [],
   "source": [
    "# Here, p > alpha so we accept the null hypothesis that the video game is \n",
    "# of the same difficulty as the puzzle."
   ]
  },
  {
   "cell_type": "markdown",
   "metadata": {},
   "source": [
    "3. Is wearing glasses associated with a higher score on the puzzle game?"
   ]
  },
  {
   "cell_type": "code",
   "execution_count": 11,
   "metadata": {},
   "outputs": [
    {
     "data": {
      "image/png": "[encoded data removed]",
      "text/plain": [
       "<Figure size 432x288 with 1 Axes>"
      ]
     },
     "metadata": {
      "needs_background": "light"
     },
     "output_type": "display_data"
    },
    {
     "name": "stdout",
     "output_type": "stream",
     "text": [
      "no glasses: n = 91 , mean(puzzle) = 51.79120879120879\n",
      "glasses: n = 109 , mean(puzzle) = 52.91743119266055\n"
     ]
    }
   ],
   "source": [
    "# Let's plot the scores for the two groups:\n",
    "\n",
    "puzzle_glasses = data.puzzle[data.glasses==1]\n",
    "puzzle_no_glasses = data.puzzle[data.glasses==0]\n",
    "\n",
    "xlab = 'puzzle'\n",
    "ylab = 'freq'\n",
    "\n",
    "bins = np.linspace(data.puzzle.min(), data.puzzle.max()+1, 10)\n",
    "ax = plt.axes()\n",
    "ax.set_xlabel(xlab)\n",
    "ax.set_ylabel(ylab)\n",
    "\n",
    "#plt.hist(data.puzzle, bins, alpha=0.5)\n",
    "plt.hist(puzzle_no_glasses, bins, alpha=0.5, label='no glasses', color='C0' )\n",
    "plt.hist(puzzle_glasses, bins, alpha=0.5, label='glasses', color='C1' )\n",
    "\n",
    "ax.legend(loc='upper left')\n",
    "plt.show()\n",
    "\n",
    "print('no glasses: n =', len(puzzle_no_glasses), \n",
    "      ', mean(puzzle) =', puzzle_no_glasses.mean())\n",
    "print('glasses: n =', len(puzzle_glasses),\n",
    "     ', mean(puzzle) =', puzzle_glasses.mean())"
   ]
  },
  {
   "cell_type": "code",
   "execution_count": 13,
   "metadata": {},
   "outputs": [
    {
     "data": {
      "text/plain": [
       "0.2307172780785436"
      ]
     },
     "execution_count": 13,
     "metadata": {},
     "output_type": "execute_result"
    }
   ],
   "source": [
    "# Both groups are large enough to allow a reliable\n",
    "# p-value to be obtained from a t-test using non-normal data (n>75).\n",
    "\n",
    "# Instead, we will use a non-parametric alternative. The two samples are\n",
    "# independent, so we can use a Mann-Whitney U-test to compare their distributions.\n",
    "\n",
    "# Note that the question as posed is a one-tailed hypothesis test:\n",
    "\n",
    "# H0: a random sample from puzzle_glasses is on average the same as \n",
    "#     a random sample from puzzle_no_glasses.\n",
    "# H1: a random sample from puzzle_glasses is on average less than \n",
    "#     a random sample from puzzle_no_glasses\n",
    "\n",
    "p_2tailed =  stats.ttest_ind(puzzle_glasses, \n",
    "                               puzzle_no_glasses).pvalue\n",
    "\n",
    "p_1tailed = p_2tailed/2\n",
    "p_1tailed"
   ]
  },
  {
   "cell_type": "code",
   "execution_count": 12,
   "metadata": {},
   "outputs": [],
   "source": [
    "# The result is p > alpha, so we conclude that glasses wearers do not score\n",
    "# significantly higher on the puzzle than non-wearers."
   ]
  },
  {
   "cell_type": "markdown",
   "metadata": {},
   "source": [
    "4. Do glasses wearers have different ice cream preferences to non-wearers?"
   ]
  },
  {
   "cell_type": "code",
   "execution_count": 15,
   "metadata": {},
   "outputs": [
    {
     "data": {
      "text/html": [
       "<div>\n",
       "<style scoped>\n",
       "    .dataframe tbody tr th:only-of-type {\n",
       "        vertical-align: middle;\n",
       "    }\n",
       "\n",
       "    .dataframe tbody tr th {\n",
       "        vertical-align: top;\n",
       "    }\n",
       "\n",
       "    .dataframe thead th {\n",
       "        text-align: right;\n",
       "    }\n",
       "</style>\n",
       "<table border=\"1\" class=\"dataframe\">\n",
       "  <thead>\n",
       "    <tr style=\"text-align: right;\">\n",
       "      <th>ice_cream</th>\n",
       "      <th>1</th>\n",
       "      <th>2</th>\n",
       "      <th>3</th>\n",
       "    </tr>\n",
       "    <tr>\n",
       "      <th>glasses</th>\n",
       "      <th></th>\n",
       "      <th></th>\n",
       "      <th></th>\n",
       "    </tr>\n",
       "  </thead>\n",
       "  <tbody>\n",
       "    <tr>\n",
       "      <th>0</th>\n",
       "      <td>47</td>\n",
       "      <td>15</td>\n",
       "      <td>29</td>\n",
       "    </tr>\n",
       "    <tr>\n",
       "      <th>1</th>\n",
       "      <td>48</td>\n",
       "      <td>32</td>\n",
       "      <td>29</td>\n",
       "    </tr>\n",
       "  </tbody>\n",
       "</table>\n",
       "</div>"
      ],
      "text/plain": [
       "ice_cream   1   2   3\n",
       "glasses              \n",
       "0          47  15  29\n",
       "1          48  32  29"
      ]
     },
     "execution_count": 15,
     "metadata": {},
     "output_type": "execute_result"
    }
   ],
   "source": [
    "# To test whether two categorical variables are independent, we use a \n",
    "# chi-squared test:\n",
    "\n",
    "# H0: glasses and ice_cream are independent.\n",
    "# H1: glasses and ice_cream are not independent.\n",
    "\n",
    "# The contingency table:\n",
    "\n",
    "obs = pd.crosstab(data.glasses, data.ice_cream)\n",
    "obs"
   ]
  },
  {
   "cell_type": "code",
   "execution_count": 16,
   "metadata": {},
   "outputs": [
    {
     "data": {
      "text/plain": [
       "array([[43.225, 21.385, 26.39 ],\n",
       "       [51.775, 25.615, 31.61 ]])"
      ]
     },
     "execution_count": 16,
     "metadata": {},
     "output_type": "execute_result"
    }
   ],
   "source": [
    "# The expected frequencies:\n",
    "\n",
    "stats.contingency.expected_freq(obs)"
   ]
  },
  {
   "cell_type": "code",
   "execution_count": 17,
   "metadata": {},
   "outputs": [
    {
     "data": {
      "text/plain": [
       "0.10144219001975929"
      ]
     },
     "execution_count": 17,
     "metadata": {},
     "output_type": "execute_result"
    }
   ],
   "source": [
    "# All expected frequencies are above 5, so we are OK to proceed with the test:\n",
    "\n",
    "stats.chi2_contingency(obs)[1]"
   ]
  },
  {
   "cell_type": "code",
   "execution_count": 16,
   "metadata": {},
   "outputs": [],
   "source": [
    "# p > alpha, so we accept the null hypothesis that the variables are independent."
   ]
  },
  {
   "cell_type": "markdown",
   "metadata": {},
   "source": [
    "5. Is the video game score independent of favourite ice cream?"
   ]
  },
  {
   "cell_type": "code",
   "execution_count": 18,
   "metadata": {},
   "outputs": [
    {
     "data": {
      "image/png": "[encoded data removed]",
      "text/plain": [
       "<Figure size 432x288 with 1 Axes>"
      ]
     },
     "metadata": {
      "needs_background": "light"
     },
     "output_type": "display_data"
    },
    {
     "name": "stdout",
     "output_type": "stream",
     "text": [
      "1: Vanilla: n = 95 , mean(video) = 51.705263157894734\n",
      "2: Chocolate: n = 47 , mean(video) = 47.702127659574465\n",
      "3: Strawberry: n = 58 , mean(video) = 55.44827586206897\n"
     ]
    }
   ],
   "source": [
    "# Again, let's plot the scores for the relevant groups:\n",
    "\n",
    "video_1 = data.video[data.ice_cream==1]\n",
    "video_2 = data.video[data.ice_cream==2]\n",
    "video_3 = data.video[data.ice_cream==3]\n",
    "\n",
    "xlab = 'video'\n",
    "ylab = 'freq'\n",
    "\n",
    "bins = np.linspace(data.video.min(), data.video.max()+1, 15)\n",
    "ax = plt.axes()\n",
    "ax.set_xlabel(xlab)\n",
    "ax.set_ylabel(ylab)\n",
    "\n",
    "plt.hist(video_1, bins, alpha=0.5, label='1: Vanilla', color='yellow' )\n",
    "plt.hist(video_2, bins, alpha=0.5, label='2: Chocolate', color='brown' )\n",
    "plt.hist(video_3, bins, alpha=0.5, label='3: Strawberry', color='pink' )\n",
    "\n",
    "ax.legend(loc='upper left')\n",
    "plt.show()\n",
    "\n",
    "print('1: Vanilla: n =', len(video_1), \n",
    "      ', mean(video) =', video_1.mean())\n",
    "print('2: Chocolate: n =', len(video_2), \n",
    "      ', mean(video) =', video_2.mean())\n",
    "print('3: Strawberry: n =', len(video_3), \n",
    "      ', mean(video) =', video_3.mean())\n"
   ]
  },
  {
   "cell_type": "code",
   "execution_count": 19,
   "metadata": {},
   "outputs": [
    {
     "data": {
      "text/plain": [
       "0.00026963094976257423"
      ]
     },
     "execution_count": 19,
     "metadata": {},
     "output_type": "execute_result"
    }
   ],
   "source": [
    "# This question asks us to test whether the mean video game scores for the three\n",
    "# ice cream groups are the same. This requires a one-way ANOVA test:\n",
    "\n",
    "# H0: The means of the three groups are the same.\n",
    "# H1: The means of the three groups are not the same.\n",
    "\n",
    "p_value = stats.f_oneway(video_1, video_2, video_3).pvalue\n",
    "p_value"
   ]
  },
  {
   "cell_type": "code",
   "execution_count": 19,
   "metadata": {},
   "outputs": [],
   "source": [
    "# The result is p < alpha, so we reject the null hypothesis and conclude\n",
    "# that there is a significant association between favourite ice cream and \n",
    "# video game score."
   ]
  },
  {
   "cell_type": "markdown",
   "metadata": {},
   "source": [
    "---"
   ]
  }
 ],
 "metadata": {
  "kernelspec": {
   "display_name": "Python 3",
   "language": "python",
   "name": "python3"
  },
  "language_info": {
   "codemirror_mode": {
    "name": "ipython",
    "version": 3
   },
   "file_extension": ".py",
   "mimetype": "text/x-python",
   "name": "python",
   "nbconvert_exporter": "python",
   "pygments_lexer": "ipython3",
   "version": "3.7.6"
  }
 },
 "nbformat": 4,
 "nbformat_minor": 4
}
