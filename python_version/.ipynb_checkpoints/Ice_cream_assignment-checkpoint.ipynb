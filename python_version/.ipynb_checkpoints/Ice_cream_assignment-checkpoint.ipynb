{
 "cells": [
  {
   "cell_type": "markdown",
   "metadata": {},
   "source": [
    "# Further Hypothesis Testing\n",
    "\n",
    "## Assignment: ice cream\n",
    "\n",
    "This assignment contains exercises to test your understanding of various hypothesis tests from the course. It is a good idea to revise the course material thoroughly before starting.\n",
    "\n",
    "Use whatever computational resources you like to answer the questions (e.g. python, R, any other programming language, a spreadsheet, a calculator, ...)."
   ]
  },
  {
   "cell_type": "markdown",
   "metadata": {},
   "source": [
    "### The data\n",
    "\n",
    "The file `ice_cream.csv` contains data collected on 165 high school students. These are:\n",
    "\n",
    "* Subject ID\n",
    "* Wears glasses (0=No, 1=Yes)\n",
    "* Favourite ice cream flavour (1=Vanilla, 2=Chocolate, 3=Strawberry)\n",
    "* Score on a video game\n",
    "* Score on a puzzle"
   ]
  },
  {
   "cell_type": "markdown",
   "metadata": {},
   "source": [
    "### The tasks\n",
    "\n",
    "Answer the following questions:\n",
    "\n",
    "1. Are the video game and puzzle scores normally distributed?\n",
    "\n",
    "2. Is the video game as hard as the puzzle?\n",
    "\n",
    "3. Is wearing glasses associated with a lower score on the puzzle game?\n",
    "\n",
    "4. Do glasses wearers have different ice cream preferences to non-wearers?\n",
    "\n",
    "5. Is the video game score independent of favourite ice cream?\n",
    "\n",
    "---"
   ]
  }
 ],
 "metadata": {
  "kernelspec": {
   "display_name": "Python 3",
   "language": "python",
   "name": "python3"
  },
  "language_info": {
   "codemirror_mode": {
    "name": "ipython",
    "version": 3
   },
   "file_extension": ".py",
   "mimetype": "text/x-python",
   "name": "python",
   "nbconvert_exporter": "python",
   "pygments_lexer": "ipython3",
   "version": "3.7.6"
  }
 },
 "nbformat": 4,
 "nbformat_minor": 4
}
