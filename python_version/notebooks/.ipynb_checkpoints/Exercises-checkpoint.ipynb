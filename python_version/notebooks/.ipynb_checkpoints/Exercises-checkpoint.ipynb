{
 "cells": [
  {
   "cell_type": "markdown",
   "id": "cd5eaf11",
   "metadata": {},
   "source": [
    "# In-class exercises"
   ]
  },
  {
   "cell_type": "markdown",
   "id": "25f6eb7a",
   "metadata": {},
   "source": [
    "### 1. t-test\n",
    "\n",
    "Consider the data in `birthweight.csv`.\n",
    "\n",
    "|Variable|Description|Data type|\n",
    "|---|---|---|\n",
    "|ID|Baby number| (meta) |\n",
    "|length|Length of baby (cm)|Scale|\n",
    "|Birthweight|Weight of baby (kg)|Scale|\n",
    "| headcirumference|Head Circumference|Scale|\n",
    "| Gestation|Gestation (weeks)|Scale|\n",
    "| smoker|Mother smokes 1 = smoker 0 = non-smoker| Binary|\n",
    "| motherage|Maternal age|Scale|\n",
    "| mnocig|Number of cigarettes smoked per day by mother|Scale|\n",
    "| mheight|Mothers height (cm)| Scale|\n",
    "| mppwt|Mothers pre-pregnancy weight (kg)| Scale|\n",
    "| fage|Father's age| Scale|\n",
    "|fedyrs|Father’s years in education|Scale|\n",
    "| fnocig|Number of cigarettes smoked per day by father|Scale|\n",
    "| fheight|Father's height (kg)| Scale|\n",
    "| lowbwt|Low birth weight, 0 = No and 1 = yes| Binary|\n",
    "|mage35|Mother over 35, 0 = No and 1 = yes|Binary|\n"
   ]
  },
  {
   "cell_type": "markdown",
   "id": "d4e8a86a",
   "metadata": {},
   "source": [
    "Does a mother's smoking have any influence on their baby's birthweight?"
   ]
  },
  {
   "cell_type": "code",
   "execution_count": null,
   "id": "a6446604",
   "metadata": {},
   "outputs": [],
   "source": []
  },
  {
   "cell_type": "markdown",
   "id": "1fe9990f",
   "metadata": {},
   "source": [
    "### 2. ANOVA"
   ]
  },
  {
   "cell_type": "markdown",
   "id": "e9e915e6",
   "metadata": {},
   "source": [
    "\n",
    "Consider the data in `diet.csv`.\n",
    "\n",
    "|Variable|Description|Data type|\n",
    "|---|---|---|\n",
    "|Person|Participant number||\n",
    "|Age|Age (years)|Scale|\n",
    "|Height|Height (cm)|Scale|\n",
    "|preweight|Weight before the diet (kg)|Scale|\n",
    "|Diet|Diet|Nominal|\n",
    "|weight6weeks|Weight after 6 weeks (kg)|Scale|\n",
    "\n",
    "Does weight change depend on the diet followed?"
   ]
  },
  {
   "cell_type": "code",
   "execution_count": null,
   "id": "3fe86273",
   "metadata": {},
   "outputs": [],
   "source": []
  },
  {
   "cell_type": "markdown",
   "id": "c4e7dfe4",
   "metadata": {},
   "source": [
    "### 3. Chi-squared test"
   ]
  },
  {
   "cell_type": "markdown",
   "id": "168e434d",
   "metadata": {},
   "source": [
    "Consider the data in `crime.csv`.\n",
    "\n",
    "|Variable|Description|Data type|\n",
    "|---|---|---|\n",
    "|CrimeRate|Crime rate (number of offences per million population)|Continuous|\n",
    "|Youth|Young males (number of males aged 18-24 per 1000)|Discrete|\n",
    "|Southern|Southern state 1 = yes, 0 = no|Binary|\n",
    "|Education|Education time (average number of years schooling up to 25)|Discrete|\n",
    "|ExpenditureYear0|Expenditure (per capita expenditure on police)  skewed|Continuous|\n",
    "|LabourForce|Youth labour force (males employed 18-24 per 1000)|Discrete|\n",
    "|Males|Males (per 1000 females)|Discrete|\n",
    "|MoreMales|More males identified per 1000 females 1 = yes, 0 = no|Binary|\n",
    "|StateSize|State size (in hundred thousands)|Discrete|\n",
    "|YouthUnemployment|Youth Unemployment (number of males aged 18-24 per 1000) skewed|Discrete|\n",
    "|MatureUnemployment|Mature Unemployment (number of males aged 35-39 per 1000)|Discrete|\n",
    "|HighYouthUnemploy|High Youth Unemployment 1 = yes, 0 = no (high if Youth >3*Mature )|Binary|\n",
    "|Wage|Wage (median weekly wage)|Continuous|\n",
    "|BelowWage|Below Wage (number of families below half wage per 1000)|Discrete|\n"
   ]
  },
  {
   "cell_type": "markdown",
   "id": "fd80dce7",
   "metadata": {},
   "source": [
    "Is there a relationship between Southern states and high youth unemployment?"
   ]
  },
  {
   "cell_type": "code",
   "execution_count": null,
   "id": "e7c4f812",
   "metadata": {},
   "outputs": [],
   "source": []
  }
 ],
 "metadata": {
  "kernelspec": {
   "display_name": "Python 3",
   "language": "python",
   "name": "python3"
  },
  "language_info": {
   "codemirror_mode": {
    "name": "ipython",
    "version": 3
   },
   "file_extension": ".py",
   "mimetype": "text/x-python",
   "name": "python",
   "nbconvert_exporter": "python",
   "pygments_lexer": "ipython3",
   "version": "3.8.2"
  }
 },
 "nbformat": 4,
 "nbformat_minor": 5
}
