{
 "cells": [
  {
   "cell_type": "markdown",
   "metadata": {},
   "source": [
    "# Further Hypothesis Testing"
   ]
  },
  {
   "cell_type": "code",
   "execution_count": null,
   "metadata": {},
   "outputs": [],
   "source": [
    "# Select this cell and type Ctrl-Enter to execute the code below.\n",
    "\n",
    "library(tidyverse)\n",
    "\n",
    "set_plot_dimensions <- function(width_choice, height_choice) {\n",
    "    options(repr.plot.width=width_choice, repr.plot.height=height_choice)\n",
    "}\n",
    "\n",
    "cbPal <- c(\"#E69F00\", \"#56B4E9\", \"#009E73\", \"#F0E442\", \"#CC79A7\", \"#0072B2\", \"#D55E00\")\n",
    "\n",
    "set_plot_dimensions(5, 4)"
   ]
  },
  {
   "cell_type": "code",
   "execution_count": null,
   "metadata": {},
   "outputs": [],
   "source": [
    "# You should see \"Attaching packages\" and some ticks by the packages loaded.\n",
    "# The \"Conflicts\" aren't a problem.\n",
    "\n",
    "# Other problems loading the library? Try running this cell.\n",
    "\n",
    "install.packages('tidyverse')\n",
    "\n",
    "library(tidyverse)\n"
   ]
  },
  {
   "cell_type": "markdown",
   "metadata": {},
   "source": [
    "## 6 - Testing for normality"
   ]
  },
  {
   "cell_type": "code",
   "execution_count": null,
   "metadata": {},
   "outputs": [],
   "source": [
    "# Run this cell to load the data.\n",
    "\n",
    "data <- read_csv(\"stars.csv\")\n",
    "\n",
    "type_key <- c('Brown Dwarf', 'Red Dwarf', 'White Dwarf', 'Main Sequence', 'Supergiant','Hypergiant')\n",
    "spectral_classes <- c('O','B','A','F','G','K','M')\n",
    "\n",
    "data$type <- factor(data$type)\n",
    "data$spectral_class <- factor(data$spectral_class, levels=spectral_classes)\n"
   ]
  },
  {
   "cell_type": "markdown",
   "metadata": {},
   "source": [
    "Professor Xu thinks that the current system for classifying stars can be improved. In particular, she thinks that log(temperature) should be normally distributed for each star type. \n",
    "\n",
    "She has asked you to find out whether this is true under the current classification system, and if not, which types should be revised."
   ]
  },
  {
   "cell_type": "markdown",
   "metadata": {},
   "source": [
    "### Question: for which star types is log(temperature) normally distributed?"
   ]
  },
  {
   "cell_type": "markdown",
   "metadata": {},
   "source": [
    "### Q-Q plot"
   ]
  },
  {
   "cell_type": "markdown",
   "metadata": {},
   "source": [
    "#### Theory\n",
    "\n",
    "We can use a Q-Q plot to investigate whether each sample resembles a normal distribution.\n",
    "\n",
    "If we set\n",
    "\n",
    "$x =$ the theoretical quantiles from the standard normal ($Z$) distribution, and\n",
    "\n",
    "$y =$ the quantiles from the sample,\n",
    "\n",
    "the Q-Q plot will be close to a straight line for samples that are approximately normally distributed.\n",
    "\n",
    "Although this is not a rigorous statistical method, it can be enough to suggest whether a normal approximation is likely to be valid for a particular data set, or to diagnose [*skewness*](https://en.wikipedia.org/wiki/Skewness) and/or [*kurtosis*](https://en.wikipedia.org/wiki/Kurtosis) :"
   ]
  },
  {
   "cell_type": "code",
   "execution_count": null,
   "metadata": {},
   "outputs": [],
   "source": [
    "do_plots <- function(sample, col='gray', lab='', mu='none', sigma='none'){\n",
    "\n",
    "    set_plot_dimensions(8, 4)\n",
    "    par(mfrow=c(1,2))\n",
    "    \n",
    "    # histogram\n",
    "    nbins <- 20\n",
    "    smin <- min(sample)\n",
    "    smax <- max(sample)\n",
    "    binwidth <- (smax - smin)/nbins\n",
    "    bins <- seq(smin,smax,binwidth)\n",
    "    hist(sample, breaks=bins, xlim=c(smin,smax), \n",
    "        xlab='observed', ylab='freq', col=col, main=lab)\n",
    "\n",
    "    \n",
    "    if(mu != 'none'){\n",
    "        n <- length(sample)\n",
    "        lines(bins, n * binwidth * dnorm(bins,mean=mu,sd=sigma), type='l', col='black')\n",
    "    }\n",
    "    \n",
    "    # Q-Q plot\n",
    "    \n",
    "    x <- seq(0,1,0.01)\n",
    "    normal_q <- qnorm(x)\n",
    "    sample_q <- quantile(sample,x)\n",
    "    \n",
    "    xlab <- 'standard normal'\n",
    "    ylab <- 'observed'\n",
    "    \n",
    "    # the plot itself:\n",
    "    plot(normal_q,sample_q, col=col, xlab=xlab, ylab=ylab, main=lab)\n",
    "    \n",
    "    # the line passing through Q25 and Q75:\n",
    "    m <- (sample_q[75] - sample_q[25])/(normal_q[75] - normal_q[25])\n",
    "    c <- sample_q[25] - normal_q[25] * m\n",
    "    lines(normal_q, m * normal_q + c, type='l', col='black')\n",
    "    \n",
    "}\n",
    "   "
   ]
  },
  {
   "cell_type": "code",
   "execution_count": null,
   "metadata": {},
   "outputs": [],
   "source": [
    "### normally distributed data\n",
    "sample <- rnorm(mean=10, sd=2, n=100)\n",
    "\n",
    "### positively skewed data (e.g. lognormal)\n",
    "#sample <- rlnorm(meanlog=0.5, n=100)\n",
    "\n",
    "### negatively skewed data (e.g. constant - lognormal)\n",
    "#sample <- 20 - rlnorm(meanlog=0.5, n=100)\n",
    "\n",
    "### leptokurtic (heavy-tailed) data (e.g. Student's t-distribution with df=2)\n",
    "#sample <- 20 + rt(df=2, n=100)\n",
    "\n",
    "### platykurtic (thin-tailed) data (e.g. uniform distribution)\n",
    "#sample <- runif(min=10, max=20, n=100)\n",
    "\n",
    "do_plots(sample)"
   ]
  },
  {
   "cell_type": "markdown",
   "metadata": {},
   "source": [
    "It can also be a useful way to identify the data points that are responsible for any deviations from normality."
   ]
  },
  {
   "cell_type": "markdown",
   "metadata": {},
   "source": [
    "#### Application\n",
    "\n",
    "Run the code below to see the histograms and Q-Q plots for log(temperature) for each star type:"
   ]
  },
  {
   "cell_type": "code",
   "execution_count": null,
   "metadata": {},
   "outputs": [],
   "source": [
    "### Set the star type to test\n",
    "t <- 0\n",
    "\n",
    "sample <- data %>%\n",
    "    filter(type == t) %>%\n",
    "    pull(temperature) %>%\n",
    "    log\n",
    "col <- cbPal[t+1]\n",
    "lab <- type_key[t+1]\n",
    "\n",
    "mu <- mean(sample)\n",
    "sigma <- sd(sample)\n",
    "\n",
    "do_plots(sample,col,lab,mu,sigma)\n",
    "print(type_key[t+1])\n",
    "print(paste('mean:', mu, '   SD:', sigma))"
   ]
  },
  {
   "cell_type": "markdown",
   "metadata": {},
   "source": [
    "For which of the star types does log(temperature) appear approximately normal? How would you describe the other distributions?"
   ]
  },
  {
   "cell_type": "markdown",
   "metadata": {},
   "source": [
    "Of course, for a more rigorous investigation of normality, we can use a statistical test:"
   ]
  },
  {
   "cell_type": "markdown",
   "metadata": {},
   "source": [
    "### Shapiro-Wilk test"
   ]
  },
  {
   "cell_type": "markdown",
   "metadata": {},
   "source": [
    "#### Theory\n",
    "\n",
    "The [*Shapiro–Wilk test*](https://en.wikipedia.org/wiki/Shapiro–Wilk_test) tests the null hypothesis that a sample $x_1, ..., x_n$ came from a normally distributed population.\n",
    "\n",
    "It compares statistics obtained from the observed data to the expected values of statistics sampled from the standard normal distribution."
   ]
  },
  {
   "cell_type": "markdown",
   "metadata": {},
   "source": [
    "#### Application"
   ]
  },
  {
   "cell_type": "markdown",
   "metadata": {},
   "source": [
    "The Shapiro-Wilk test is easy to apply in R:"
   ]
  },
  {
   "cell_type": "code",
   "execution_count": null,
   "metadata": {},
   "outputs": [],
   "source": [
    "### set the star type to test\n",
    "t <- 0\n",
    "\n",
    "sample <- data %>%\n",
    "    filter(type == t) %>%\n",
    "    pull(temperature) %>%\n",
    "    log\n",
    "\n",
    "p_value <- shapiro.test(sample)$p.value\n",
    "\n",
    "print(type_key[t+1])\n",
    "print(paste('p =', p_value))"
   ]
  },
  {
   "cell_type": "markdown",
   "metadata": {},
   "source": [
    "Apply the Shapiro-Wilk test to each of the star types. Which of them produce p-values less than $\\alpha$ = 0.05? "
   ]
  },
  {
   "cell_type": "markdown",
   "metadata": {},
   "source": [
    "### Alternative tests for normality\n",
    "\n",
    "Many other tests for normality have been developed, including the Anderson-Darling, Cramér–von Mises and Kolmogorov-Smirnov (see below) tests. \n",
    "\n",
    "The Shapiro-Wilk test has been found to have the best statistical power for a given significance level.\n",
    "\n",
    "<br>"
   ]
  },
  {
   "cell_type": "markdown",
   "metadata": {},
   "source": [
    "---"
   ]
  }
 ],
 "metadata": {
  "kernelspec": {
   "display_name": "R",
   "language": "R",
   "name": "ir"
  },
  "language_info": {
   "codemirror_mode": "r",
   "file_extension": ".r",
   "mimetype": "text/x-r-source",
   "name": "R",
   "pygments_lexer": "r",
   "version": "3.6.1"
  }
 },
 "nbformat": 4,
 "nbformat_minor": 4
}
