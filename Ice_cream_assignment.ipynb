{
 "cells": [
  {
   "cell_type": "markdown",
   "metadata": {},
   "source": [
    "# Further Hypothesis Testing\n",
    "\n",
    "## Assignment: ice cream\n",
    "\n",
    "This assignment contains exercises to test your understanding of various hypothesis tests from the course. It is a good idea to revise the course material thoroughly before starting.\n",
    "\n",
    "Use whatever computational resources you like to answer the questions (e.g. python, R, any other programming language, a spreadsheet, a calculator, ...)."
   ]
  },
  {
   "cell_type": "markdown",
   "metadata": {},
   "source": [
    "### The data\n",
    "\n",
    "The file `Ice_cream.csv` contains data collected on 200 high school students. These are:\n",
    "\n",
    "* Subject ID\n",
    "* Wears glasses (0=No, 1=Yes)\n",
    "* Favourite ice cream flavour (1=Vanilla, 2=Chocolate, 3=Strawberry)\n",
    "* Score on a video game\n",
    "* Score on a puzzle"
   ]
  },
  {
   "cell_type": "markdown",
   "metadata": {},
   "source": [
    "### The tasks\n",
    "\n",
    "Answer the following questions:\n",
    "\n",
    "1. Are the video game and puzzle scores normally distributed?\n",
    "\n",
    "2. Is the video game as hard as the puzzle?\n",
    "\n",
    "3. Is wearing glasses associated with a higher score on the puzzle game?\n",
    "\n",
    "4. Do glasses wearers have different ice cream preferences to non-wearers?\n",
    "\n",
    "5. Is the video game score independent of favourite ice cream?\n",
    "\n",
    "---"
   ]
  },
  {
   "cell_type": "code",
   "execution_count": 1,
   "metadata": {},
   "outputs": [],
   "source": [
    "import numpy as np\n",
    "import pandas as pd\n",
    "from scipy import stats\n",
    "import matplotlib.pyplot as plt\n",
    "\n"
   ]
  },
  {
   "cell_type": "code",
   "execution_count": 3,
   "metadata": {},
   "outputs": [],
   "source": [
    "data = pd.read_csv(\"Ice_cream.csv\")"
   ]
  },
  {
   "cell_type": "code",
   "execution_count": 11,
   "metadata": {},
   "outputs": [
    {
     "data": {
      "text/html": [
       "<div>\n",
       "<style scoped>\n",
       "    .dataframe tbody tr th:only-of-type {\n",
       "        vertical-align: middle;\n",
       "    }\n",
       "\n",
       "    .dataframe tbody tr th {\n",
       "        vertical-align: top;\n",
       "    }\n",
       "\n",
       "    .dataframe thead th {\n",
       "        text-align: right;\n",
       "    }\n",
       "</style>\n",
       "<table border=\"1\" class=\"dataframe\">\n",
       "  <thead>\n",
       "    <tr style=\"text-align: right;\">\n",
       "      <th>ice_cream</th>\n",
       "      <th>1</th>\n",
       "      <th>2</th>\n",
       "      <th>3</th>\n",
       "      <th>total</th>\n",
       "    </tr>\n",
       "    <tr>\n",
       "      <th>glasses</th>\n",
       "      <th></th>\n",
       "      <th></th>\n",
       "      <th></th>\n",
       "      <th></th>\n",
       "    </tr>\n",
       "  </thead>\n",
       "  <tbody>\n",
       "    <tr>\n",
       "      <th>0</th>\n",
       "      <td>47</td>\n",
       "      <td>15</td>\n",
       "      <td>29</td>\n",
       "      <td>91</td>\n",
       "    </tr>\n",
       "    <tr>\n",
       "      <th>1</th>\n",
       "      <td>48</td>\n",
       "      <td>32</td>\n",
       "      <td>29</td>\n",
       "      <td>109</td>\n",
       "    </tr>\n",
       "    <tr>\n",
       "      <th>total</th>\n",
       "      <td>95</td>\n",
       "      <td>47</td>\n",
       "      <td>58</td>\n",
       "      <td>200</td>\n",
       "    </tr>\n",
       "  </tbody>\n",
       "</table>\n",
       "</div>"
      ],
      "text/plain": [
       "ice_cream   1   2   3  total\n",
       "glasses                     \n",
       "0          47  15  29     91\n",
       "1          48  32  29    109\n",
       "total      95  47  58    200"
      ]
     },
     "execution_count": 11,
     "metadata": {},
     "output_type": "execute_result"
    }
   ],
   "source": [
    "obs = pd.crosstab(data.glasses, data.ice_cream,margins=True,margins_name=\"total\")\n",
    "obs"
   ]
  },
  {
   "cell_type": "code",
   "execution_count": 10,
   "metadata": {},
   "outputs": [
    {
     "data": {
      "text/plain": [
       "array([[43.225, 21.385, 26.39 ],\n",
       "       [51.775, 25.615, 31.61 ]])"
      ]
     },
     "execution_count": 10,
     "metadata": {},
     "output_type": "execute_result"
    }
   ],
   "source": [
    "stats.contingency.expected_freq(obs)"
   ]
  },
  {
   "cell_type": "code",
   "execution_count": 13,
   "metadata": {},
   "outputs": [
    {
     "data": {
      "text/plain": [
       "(4.57653239842952,\n",
       " 0.5991528049719697,\n",
       " 6,\n",
       " array([[ 43.225,  21.385,  26.39 ,  91.   ],\n",
       "        [ 51.775,  25.615,  31.61 , 109.   ],\n",
       "        [ 95.   ,  47.   ,  58.   , 200.   ]]))"
      ]
     },
     "execution_count": 13,
     "metadata": {},
     "output_type": "execute_result"
    }
   ],
   "source": [
    "stats.chi2_contingency(obs)"
   ]
  },
  {
   "cell_type": "code",
   "execution_count": null,
   "metadata": {},
   "outputs": [],
   "source": []
  }
 ],
 "metadata": {
  "kernelspec": {
   "display_name": "Python 3",
   "language": "python",
   "name": "python3"
  },
  "language_info": {
   "codemirror_mode": {
    "name": "ipython",
    "version": 3
   },
   "file_extension": ".py",
   "mimetype": "text/x-python",
   "name": "python",
   "nbconvert_exporter": "python",
   "pygments_lexer": "ipython3",
   "version": "3.7.6"
  }
 },
 "nbformat": 4,
 "nbformat_minor": 4
}
